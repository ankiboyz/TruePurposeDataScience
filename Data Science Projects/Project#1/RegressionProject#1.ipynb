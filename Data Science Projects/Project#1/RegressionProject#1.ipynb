{
  "nbformat": 4,
  "nbformat_minor": 0,
  "metadata": {
    "colab": {
      "name": "RegressionProject#1.ipynb",
      "provenance": [],
      "authorship_tag": "ABX9TyPDmOL6y38SBoOLQdvdjbzx",
      "include_colab_link": true
    },
    "kernelspec": {
      "name": "python3",
      "display_name": "Python 3"
    },
    "language_info": {
      "name": "python"
    }
  },
  "cells": [
    {
      "cell_type": "markdown",
      "metadata": {
        "id": "view-in-github",
        "colab_type": "text"
      },
      "source": [
        "<a href=\"https://colab.research.google.com/github/ankiboyz/TruePurposeDataScience/blob/main/Data%20Science%20Projects/Project%231/RegressionProject%231.ipynb\" target=\"_parent\"><img src=\"https://colab.research.google.com/assets/colab-badge.svg\" alt=\"Open In Colab\"/></a>"
      ]
    },
    {
      "cell_type": "markdown",
      "source": [
        "# Project : To predict the median housing price in any district.\n",
        "Dataset : \"California Housing Prices\"\n",
        "\n",
        "Read Me file for the details to this project: [Predicting California Median Housing Prices](https://github.com/ankiboyz/TruePurposeDataScience/blob/463dedb57416c0035298eac2bca50d79998b02d5/Data%20Science%20Projects/Project%231/README.md)"
      ],
      "metadata": {
        "id": "i3ICNVWnd_6q"
      }
    },
    {
      "cell_type": "markdown",
      "source": [
        "Welcome to the True Purpose Data Science. The first task is to use the California census data to build a model of housing prices in the state. The data includes the metrics such as (to name a few):\n",
        "*   population\n",
        "*   median income\n",
        "*   median housing price\n",
        "for each **block group** in California. Block Groups are the smallest geographical unit for which the US Census Bureau publishes the sample data (a block group typically has a population of 600 to 3000 people). These are called as districts in short."
      ],
      "metadata": {
        "id": "nLi_vytsfs5f"
      }
    },
    {
      "cell_type": "markdown",
      "source": [
        "## Setup\n",
        "\n",
        "Here, we will do the following steps:\n",
        "1. Import the needed libraries\n",
        "2. Ensure that the matplotlib backend is set to inline so that the plots are displayed next to the code cells , for additional information refer [How to make IPython notebook matplotlib plot inline](http://ipython.readthedocs.io/en/stable/interactive/plotting.html)\n",
        "3. Set up the runtime configurations for the matplotlib , that would serve for the plots being rendered later.\n",
        "4. Also verify the needed library versions."
      ],
      "metadata": {
        "id": "mjzltkV4_u8r"
      }
    },
    {
      "cell_type": "code",
      "source": [
        "# Python ≥3.5 is required\n",
        "import sys\n",
        "assert sys.version_info >= (3, 5)\n",
        "\n",
        "# Scikit-Learn ≥0.20 is required\n",
        "import sklearn\n",
        "assert sklearn.__version__ >= \"0.20\"\n"
      ],
      "metadata": {
        "id": "ckMeChV7effr"
      },
      "execution_count": 1,
      "outputs": []
    },
    {
      "cell_type": "code",
      "source": [],
      "metadata": {
        "id": "o4auFCQ5D2yJ"
      },
      "execution_count": null,
      "outputs": []
    }
  ]
}
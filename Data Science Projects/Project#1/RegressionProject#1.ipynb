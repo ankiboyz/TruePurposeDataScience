{
  "nbformat": 4,
  "nbformat_minor": 0,
  "metadata": {
    "colab": {
      "name": "RegressionProject#1.ipynb",
      "provenance": [],
      "authorship_tag": "ABX9TyMKx7T+BPfe93prxMDhfPwI",
      "include_colab_link": true
    },
    "kernelspec": {
      "name": "python3",
      "display_name": "Python 3"
    },
    "language_info": {
      "name": "python"
    }
  },
  "cells": [
    {
      "cell_type": "markdown",
      "metadata": {
        "id": "view-in-github",
        "colab_type": "text"
      },
      "source": [
        "<a href=\"https://colab.research.google.com/github/ankiboyz/TruePurposeDataScience/blob/main/Data%20Science%20Projects/Project%231/RegressionProject%231.ipynb\" target=\"_parent\"><img src=\"https://colab.research.google.com/assets/colab-badge.svg\" alt=\"Open In Colab\"/></a>"
      ]
    },
    {
      "cell_type": "markdown",
      "source": [
        "# Project : To predict the median housing price in any district.\n",
        "Dataset : \"California Housing Prices\""
      ],
      "metadata": {
        "id": "i3ICNVWnd_6q"
      }
    },
    {
      "cell_type": "markdown",
      "source": [
        "Welcome to the True Purpose Data Science. The first task is to use the California census data to build a model of housing prices in the state. The data includes the metrics such as (to name a few):\n",
        "*   population\n",
        "*   median income\n",
        "*   median housing price\n",
        "for each **block group** in California. Block Groups are the smallest geographical unit for which the US Census Bureau publishes the sample data (a block group typically has a population of 600 to 3000 people). These are called as districts in short."
      ],
      "metadata": {
        "id": "nLi_vytsfs5f"
      }
    },
    {
      "cell_type": "code",
      "source": [],
      "metadata": {
        "id": "ckMeChV7effr"
      },
      "execution_count": null,
      "outputs": []
    }
  ]
}
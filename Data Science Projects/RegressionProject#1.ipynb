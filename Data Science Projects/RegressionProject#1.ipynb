{
  "nbformat": 4,
  "nbformat_minor": 0,
  "metadata": {
    "colab": {
      "name": "RegressionProject#1.ipynb",
      "provenance": [],
      "authorship_tag": "ABX9TyPhr+IsvU5GH0NqIF7DZ9q8",
      "include_colab_link": true
    },
    "kernelspec": {
      "name": "python3",
      "display_name": "Python 3"
    },
    "language_info": {
      "name": "python"
    }
  },
  "cells": [
    {
      "cell_type": "markdown",
      "metadata": {
        "id": "view-in-github",
        "colab_type": "text"
      },
      "source": [
        "<a href=\"https://colab.research.google.com/github/ankiboyz/TruePurposeDataScience/blob/main/Data%20Science%20Projects/RegressionProject%231.ipynb\" target=\"_parent\"><img src=\"https://colab.research.google.com/assets/colab-badge.svg\" alt=\"Open In Colab\"/></a>"
      ]
    },
    {
      "cell_type": "markdown",
      "source": [
        "# Project : To predict the median housing price in any district.\n",
        "Dataset : \"California Housing Prices\""
      ],
      "metadata": {
        "id": "i3ICNVWnd_6q"
      }
    },
    {
      "cell_type": "markdown",
      "source": [
        "Welcome to the True Purpose Data Science. The first task is to use the California census data to build a model of housing prices in the state. The data includes the metrics such as (to name a few):\n",
        "*   population\n",
        "*   median income\n",
        "*   median housing price\n",
        "for each **block group** in California. Block Groups are the smallest geographical unit for which the US Census Bureau publishes the sample data (a block group typically has a population of 600 to 3000 people). These are called as districts in short."
      ],
      "metadata": {
        "id": "nLi_vytsfs5f"
      }
    },
    {
      "cell_type": "markdown",
      "source": [
        "## Frame the Problem and look at the Big Picture\n",
        "First of all , we need to understand the business objective.Just building a model is not the end goal; \n",
        "**What is the precise objective of the model, and how exactly is it going to be used?**\n",
        "\n",
        "Following questions need to be gathered:\n",
        "1.   Define the objective in the business terms.\n",
        "2.   How will your solution be used?\n",
        "\n",
        "*For this project it is gathered that this model's output will be fed to another Machine Learning system, along with many others signals. The downstream system will determine whether its worth investing in the given area or not. Getting this signal right is critical as it directly affects the revenue.*\n",
        "\n",
        "3.   What are the current solutions/workarounds (if any)?\n",
        "\n",
        "*The current situation often gives a reference for performance, as well as insights on how to solve the problem. The information gathered here is that is currently estimated manually by the experts: a team gathers up-to-date information about a district, and when they cannot get the median housing price, they estimate it using complex rules. This is costly and time consuming and their estimates are not great; in cases where they manage to find out the actual median housing price, they often realize that their estimates were off by more than 20%.*\n",
        "\n",
        "4.   How the problem should be framed (supervised/ unsupervised, online/offline, etc.)?\n",
        "\n",
        "*This is clearly a typical supervised learning task, since you are given labeled training example (each instance comes with the expected output, i.e., the district's median housing price).\n",
        "It is also a typical regression task, since it is about predicting a value.\n",
        "More specifically this is a multiple regression problem, since the system will use multiple features to make a prediction.*\n",
        "*It is also a* **univariate** *regression problem, since we are only trying to predict a single value for each district; if it would have been multiple values per district then it would have been a* **multivariate** *regression problem.*\n",
        "\n",
        "*And finally, since there is no continuous flow of datacoming into the system, there is no particular need to adjust to changing data rapidly, and the data is small enough to fit in memory, so plain* **batch learning** *should be fine.*\n",
        "\n",
        "5.   How should performance be measured?\n",
        "6.   Is the performance measure aligned with the business objective?\n",
        "7.   What would be the minimum performance needed to reach the business objective?\n",
        "8.   What are comparable problems? Can one reuse experience or tools?\n",
        "9.   Is the human expertise available?\n",
        "10.   How would you solve the problem manually?\n",
        "11.   List the assumptions been made so far.\n",
        "12.   Verify assumptions if possible.\n",
        "\n"
      ],
      "metadata": {
        "id": "mgj-Hx8VhSqm"
      }
    },
    {
      "cell_type": "code",
      "source": [],
      "metadata": {
        "id": "ckMeChV7effr"
      },
      "execution_count": null,
      "outputs": []
    }
  ]
}